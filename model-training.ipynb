{
 "cells": [
  {
   "cell_type": "code",
   "execution_count": null,
   "id": "ba13fe54-bd50-47d2-b731-05722e3fa326",
   "metadata": {},
   "outputs": [],
   "source": [
    "#importing the necessery libraries\n",
    "import mysql.connector\n",
    "import numpy as np\n",
    "import pandas as pd\n",
    "import re\n",
    "import matplotlib.pyplot as plt\n",
    "import seaborn as sns\n",
    "from sklearn.preprocessing import StandardScaler\n",
    "from sklearn.linear_model import LinearRegression\n",
    "from sklearn.model_selection import train_test_split\n",
    "from sklearn.preprocessing import LabelEncoder,MinMaxScaler\n",
    "import statistics\n",
    "from sklearn.metrics import mean_squared_error, r2_score\n",
    "from joblib import dump, load\n",
    "import json"
   ]
  },
  {
   "cell_type": "code",
   "execution_count": null,
   "id": "3fadbde5-df97-4bc0-aed6-f4ca8f0160f7",
   "metadata": {},
   "outputs": [],
   "source": [
    "conn = mysql.connector.connect(user='root', password='admin',\n",
    "                               host='localhost', database='main_database')"
   ]
  },
  {
   "cell_type": "code",
   "execution_count": null,
   "id": "5985cde6-e41a-43dc-abc2-d790c0f06256",
   "metadata": {},
   "outputs": [],
   "source": [
    "sql_query = \"SELECT * FROM cars\"\n",
    "df_original = pd.read_sql(sql_query, con=conn)\n",
    "conn.close()"
   ]
  },
  {
   "cell_type": "code",
   "execution_count": null,
   "id": "74c853c3-6cd1-4765-87f4-90117ee4786a",
   "metadata": {},
   "outputs": [],
   "source": [
    "df=df_original.copy()"
   ]
  },
  {
   "cell_type": "code",
   "execution_count": null,
   "id": "3817c0d7-5ebd-40d1-99c8-9846f0649455",
   "metadata": {},
   "outputs": [],
   "source": [
    "df.sort_values('price',ascending=True)"
   ]
  },
  {
   "cell_type": "code",
   "execution_count": null,
   "id": "b8e09474-e707-4664-b2e3-1d45046ce886",
   "metadata": {},
   "outputs": [],
   "source": [
    "#cleaning the data\n",
    "df.drop(df[df['location'].str.contains(re.compile(r'^/$', flags=re.IGNORECASE), na=False)].index, inplace=True)\n",
    "df.drop(df[df['price'] < 50000000].index, inplace=True)\n",
    "df.drop(df[df['price'] > 12000000000].index, inplace=True)"
   ]
  },
  {
   "cell_type": "code",
   "execution_count": null,
   "id": "7e9e18a7-c72b-46fb-9a61-8cd88b0b1bab",
   "metadata": {},
   "outputs": [],
   "source": [
    "freq = df.groupby([\"brand\", \"model\"]).size().reset_index(name=\"count\")\n",
    "freq.sort_values('count',ascending=False)\n",
    "top_five = freq.sort_values('count',ascending=False).head(5)\n",
    "# Create a new dataframe with the brand and model columns of the top five rows\n",
    "top_five_combo= pd.DataFrame({'brand': top_five['brand'], 'model': top_five['model']})\n",
    "# Print the results\n",
    "top_five_combo"
   ]
  },
  {
   "cell_type": "code",
   "execution_count": null,
   "id": "36236999-f1fb-4eac-86ed-e2cb443ecfcd",
   "metadata": {},
   "outputs": [],
   "source": [
    "merged_df = pd.merge(top_five_combo, df, on=['brand', 'model'], how='inner')\n",
    "merged_df['brand_model']=merged_df['brand']+merged_df['model']\n",
    "merged_df"
   ]
  },
  {
   "cell_type": "code",
   "execution_count": null,
   "id": "f65805d0-107d-488b-9220-2ae4ea4ae2a6",
   "metadata": {},
   "outputs": [],
   "source": [
    "sns.scatterplot(data=merged_df,x='mileage', y='price', hue='brand_model')"
   ]
  },
  {
   "cell_type": "code",
   "execution_count": null,
   "id": "30ea8cce-f149-4c51-8612-86a09ca60842",
   "metadata": {},
   "outputs": [],
   "source": [
    "merged_df['brand_model'] = pd.Categorical(merged_df['brand_model'], categories=merged_df['brand_model'].unique())\n",
    "fig, ax = plt.subplots()\n",
    "scatter = ax.scatter(merged_df['mileage'], merged_df['price'], c=merged_df['brand_model'].cat.codes)\n",
    "ax.set_title('Car Prices vs. Mileage')\n",
    "ax.set_xlabel('mileage')\n",
    "ax.set_ylabel('price')\n",
    "handles, labels = scatter.legend_elements()\n",
    "ax.legend(handles, (merged_df['brand_model'].unique()), loc='upper right')\n",
    "plt.show()"
   ]
  },
  {
   "cell_type": "code",
   "execution_count": null,
   "id": "4e9890c4-1505-4123-a9c7-f46f69f6e4f2",
   "metadata": {},
   "outputs": [],
   "source": [
    "df.loc[df['prod_year'] < 1410, 'prod_year'] += 621"
   ]
  },
  {
   "cell_type": "code",
   "execution_count": null,
   "id": "c98b0f8b-4a52-4d96-b2e2-59365cfc58ea",
   "metadata": {},
   "outputs": [],
   "source": [
    "#normalize with z score\n",
    "columns_to_normalize = ['mileage', 'prod_year', 'price']\n",
    "scaler_main = StandardScaler()\n",
    "df[columns_to_normalize[:2]] = scaler_main.fit_transform(df[columns_to_normalize[:2]])\n",
    "#normalize price and use log to avoid negative prices\n",
    "scaler_price = MinMaxScaler()\n",
    "df[columns_to_normalize[2]] = scaler_price.fit_transform(df[[columns_to_normalize[2]]])\n",
    "df['price'] = np.log(df['price'])\n",
    "#merge the brand, model and trim together\n",
    "df['merged'] = df['brand'] + '_' + df['model'] + '_' + df['trim']"
   ]
  },
  {
   "cell_type": "code",
   "execution_count": null,
   "id": "69f9b981-97f5-408b-abea-3fb4eee5e884",
   "metadata": {},
   "outputs": [],
   "source": [
    "sorted_df = df.sort_values('price')\n",
    "top_row_id = sorted_df.iloc[0]['id']\n",
    "df.drop(df[df['id'] == top_row_id].index, inplace=True)\n",
    "df.sort_values('price',ascending=False)"
   ]
  },
  {
   "cell_type": "code",
   "execution_count": null,
   "id": "c6505177-75ed-4154-b6fa-e5aed30bb6bd",
   "metadata": {},
   "outputs": [],
   "source": [
    "#encode models which are categorical values using mean encoding method\n",
    "df['mean_encoded_model'] = 0\n",
    "mean_encoded = df.groupby('merged')['price'].mean()\n",
    "for value in df['merged'].unique():\n",
    "    df.loc[df['merged'] == value, 'mean_encoded_model'] = mean_encoded[value]\n",
    "#encoding locations\n",
    "merged_models='پژو_ 206_تیپ 2'\n",
    "loc_df = df.loc[df['merged'] == merged_models].copy()\n",
    "df['mean_encoded_location'] = 0\n",
    "mean_encoded = loc_df.groupby('location')['price'].mean()\n",
    "mean_encoded_dict = mean_encoded.to_dict()\n",
    "default_mean = statistics.mean(mean_encoded_dict.values())\n",
    "for value in df['location'].unique():\n",
    "    if value in mean_encoded:\n",
    "        df.loc[df['location'] == value, 'mean_encoded_location'] = mean_encoded[value]\n",
    "    else:\n",
    "        df.loc[df['location'] == value, 'mean_encoded_location'] = default_mean"
   ]
  },
  {
   "cell_type": "code",
   "execution_count": null,
   "id": "214b63bf-0919-433b-bddc-1dbaf6d0b0f6",
   "metadata": {},
   "outputs": [],
   "source": [
    "#split the x and y columns\n",
    "X=df.loc[:,['mean_encoded_model','prod_year','mileage','mean_encoded_location']]\n",
    "y=df.loc[:,['price']]"
   ]
  },
  {
   "cell_type": "code",
   "execution_count": null,
   "id": "e8bfdd4e-f9c9-4a51-acef-d3e9cb0391ba",
   "metadata": {},
   "outputs": [],
   "source": [
    "unique_values = list(df['merged'].unique())\n",
    "value_dict = {val: i for i, val in enumerate(unique_values)}\n",
    "df['merged_num'] = df['merged'].map(value_dict)"
   ]
  },
  {
   "cell_type": "code",
   "execution_count": null,
   "id": "37cf4008-2bff-4363-a5f2-cbadce7a3020",
   "metadata": {},
   "outputs": [],
   "source": [
    "value_dict_1=value_dict\n",
    "value_dict_2 =df.groupby('merged_num')['mean_encoded_model'].unique().to_dict()"
   ]
  },
  {
   "cell_type": "code",
   "execution_count": null,
   "id": "37bfa470-7950-4c6d-a65f-55d6be390d2b",
   "metadata": {},
   "outputs": [],
   "source": [
    "X_train, X_test, y_train, y_test = train_test_split(X, y, test_size=0.3, random_state=27)"
   ]
  },
  {
   "cell_type": "code",
   "execution_count": null,
   "id": "46392e96-f8ed-4d26-a77d-6afebadb956e",
   "metadata": {},
   "outputs": [],
   "source": [
    "X_train, X_acc, y_train, y_acc = train_test_split(X_train, y_train, test_size=0.1, random_state=27)"
   ]
  },
  {
   "cell_type": "code",
   "execution_count": null,
   "id": "ca1a425a-3a4d-4cf6-860f-ce3eff4cb902",
   "metadata": {},
   "outputs": [],
   "source": [
    "lr = LinearRegression()\n",
    "lr.fit(X_train, y_train)\n",
    "y_pred = lr.predict(X_test)\n",
    "# calculate RMSE\n",
    "rmse = np.sqrt(mean_squared_error(y_test, y_pred))\n",
    "mse = mean_squared_error(y_test, y_pred)\n",
    "r2 = r2_score(y_test, y_pred)\n",
    "# Print the metrics\n",
    "print('Mean squared error (MSE):', mse)\n",
    "print('Root mean squared error (RMSE):', rmse)\n",
    "print('R-squared (R²) score:', r2)"
   ]
  },
  {
   "cell_type": "code",
   "execution_count": null,
   "id": "fd696558-f8c1-4c92-bb74-5e913fd95e4f",
   "metadata": {},
   "outputs": [],
   "source": [
    "from sklearn import svm\n",
    "regr = svm.SVR()\n",
    "regr.fit(X_train, y_train)\n",
    "y_pred = regr.predict(X_test)\n",
    "# calculate RMSE\n",
    "rmse = np.sqrt(mean_squared_error(y_test, y_pred))\n",
    "mse = mean_squared_error(y_test, y_pred)\n",
    "r2 = r2_score(y_test, y_pred)\n",
    "# Print the metrics\n",
    "print('Mean squared error (MSE):', mse)\n",
    "print('Root mean squared error (RMSE):', rmse)\n",
    "print('R-squared (R²) score:', r2)"
   ]
  },
  {
   "cell_type": "code",
   "execution_count": null,
   "id": "0cfe822c-d412-40b7-8467-9bdfc99d3f5c",
   "metadata": {},
   "outputs": [],
   "source": [
    "from sklearn.linear_model import Ridge\n",
    "clf = Ridge(alpha=1.0)\n",
    "clf.fit(X_train, y_train)\n",
    "y_pred = clf.predict(X_test)\n",
    "# calculate RMSE\n",
    "rmse = np.sqrt(mean_squared_error(y_test, y_pred))\n",
    "mse = mean_squared_error(y_test, y_pred)\n",
    "r2 = r2_score(y_test, y_pred)\n",
    "# Print the metrics\n",
    "print('Mean squared error (MSE):', mse)\n",
    "print('Root mean squared error (RMSE):', rmse)\n",
    "print('R-squared (R²) score:', r2)"
   ]
  },
  {
   "cell_type": "code",
   "execution_count": null,
   "id": "253ba736-670a-478c-8abf-69c43db1e9cc",
   "metadata": {},
   "outputs": [],
   "source": [
    "from sklearn.linear_model import SGDRegressor\n",
    "reg = SGDRegressor(max_iter=1000, tol=1e-3)\n",
    "reg.fit(X_train, y_train)\n",
    "y_pred = reg.predict(X_test)\n",
    "# calculate RMSE\n",
    "rmse = np.sqrt(mean_squared_error(y_test, y_pred))\n",
    "mse = mean_squared_error(y_test, y_pred)\n",
    "r2 = r2_score(y_test, y_pred)\n",
    "# Print the metrics\n",
    "print('Mean squared error (MSE):', mse)\n",
    "print('Root mean squared error (RMSE):', rmse)\n",
    "print('R-squared (R²) score:', r2)"
   ]
  },
  {
   "cell_type": "code",
   "execution_count": null,
   "id": "3c69b91b-39c0-45c9-b6bb-f67547b83cc3",
   "metadata": {},
   "outputs": [],
   "source": [
    "from sklearn.linear_model import HuberRegressor\n",
    "huber = HuberRegressor()\n",
    "huber.fit(X_train, y_train)\n",
    "y_pred = huber.predict(X_test)\n",
    "# calculate RMSE\n",
    "rmse = np.sqrt(mean_squared_error(y_test, y_pred))\n",
    "mse = mean_squared_error(y_test, y_pred)\n",
    "r2 = r2_score(y_test, y_pred)\n",
    "# Print the metrics\n",
    "print('Mean squared error (MSE):', mse)\n",
    "print('Root mean squared error (RMSE):', rmse)\n",
    "print('R-squared (R²) score:', r2)"
   ]
  },
  {
   "cell_type": "code",
   "execution_count": null,
   "id": "01f9d97a-de6e-41f4-947f-30a83eb3c204",
   "metadata": {},
   "outputs": [],
   "source": [
    "from sklearn.ensemble import RandomForestRegressor\n",
    "rndm = RandomForestRegressor(random_state=0)\n",
    "rndm.fit(X_train, y_train)\n",
    "y_pred = rndm.predict(X_test)\n",
    "# calculate RMSE\n",
    "rmse = np.sqrt(mean_squared_error(y_test, y_pred))\n",
    "mse = mean_squared_error(y_test, y_pred)\n",
    "r2 = r2_score(y_test, y_pred)\n",
    "# Print the metrics\n",
    "print('Mean squared error (MSE):', mse)\n",
    "print('Root mean squared error (RMSE):', rmse)\n",
    "print('R-squared (R²) score:', r2)"
   ]
  },
  {
   "cell_type": "code",
   "execution_count": null,
   "id": "5bb686ce-20e8-46ee-a9d0-b5e6e93d1298",
   "metadata": {},
   "outputs": [],
   "source": [
    "from sklearn.tree import DecisionTreeRegressor\n",
    "dsc=DecisionTreeRegressor(random_state=0)\n",
    "dsc.fit(X_train, y_train)\n",
    "y_pred = dsc.predict(X_test)\n",
    "# calculate RMSE\n",
    "rmse = np.sqrt(mean_squared_error(y_test, y_pred))\n",
    "mse = mean_squared_error(y_test, y_pred)\n",
    "r2 = r2_score(y_test, y_pred)\n",
    "# Print the metrics\n",
    "print('Mean squared error (MSE):', mse)\n",
    "print('Root mean squared error (RMSE):', rmse)\n",
    "print('R-squared (R²) score:', r2)"
   ]
  },
  {
   "cell_type": "code",
   "execution_count": null,
   "id": "02f66e94-dc08-43c5-96bf-b65919038136",
   "metadata": {},
   "outputs": [],
   "source": [
    "from sklearn.ensemble import GradientBoostingRegressor\n",
    "grb = GradientBoostingRegressor()\n",
    "grb.fit(X_train, y_train)\n",
    "y_pred = grb.predict(X_test)\n",
    "# calculate RMSE\n",
    "rmse = np.sqrt(mean_squared_error(y_test, y_pred))\n",
    "mse = mean_squared_error(y_test, y_pred)\n",
    "r2 = r2_score(y_test, y_pred)\n",
    "# Print the metrics\n",
    "print('Mean squared error (MSE):', mse)\n",
    "print('Root mean squared error (RMSE):', rmse)\n",
    "print('R-squared (R²) score:', r2)"
   ]
  },
  {
   "cell_type": "markdown",
   "id": "73d24912-1286-4a94-b510-052b154f78ab",
   "metadata": {},
   "source": [
    "<h1>Export the model and dictionaries\n",
    "</h1>\n"
   ]
  },
  {
   "cell_type": "code",
   "execution_count": null,
   "id": "fc9c0151-aec6-4a6b-a720-425118eed8f1",
   "metadata": {},
   "outputs": [],
   "source": [
    "value_dict_1=value_dict\n",
    "value_dict_2 =df.groupby('merged_num')['mean_encoded_model'].unique().to_dict()\n",
    "location_dict=mean_encoded_dict\n",
    "dump(scaler_main, 'scaler_main.joblib')\n",
    "dump(scaler_price, 'scaler_price.joblib')\n",
    "\n",
    "for key in value_dict_2:\n",
    "     value_dict_2[key] = [float(i) for i in value_dict_2[key]]\n",
    "for key in value_dict_2:\n",
    "     value_dict_2[key] = value_dict_2[key][0]\n",
    "with open('value_dict_1.json', 'w') as f:\n",
    "    json.dump(value_dict_1, f)\n",
    "with open('value_dict_2.json', 'w') as f:\n",
    "    json.dump(value_dict_2, f)\n",
    "with open('location_dict.json', 'w') as f:\n",
    "    json.dump(location_dict, f)\n",
    "dump(rndm, 'random_forrest_model.joblib')\n",
    "dump(grb, 'gradient_boosting_model.joblib')\n",
    "dump(dsc, 'desicion_tree_model.joblib')"
   ]
  },
  {
   "cell_type": "code",
   "execution_count": null,
   "id": "977ed135-fb8a-4c78-b713-e195aa504d8a",
   "metadata": {},
   "outputs": [],
   "source": [
    "import tensorflow as tf\n",
    "from tensorflow.keras.callbacks import EarlyStopping\n",
    "input_dim = 4\n",
    "# Define the architecture of the neural network\n",
    "model = tf.keras.Sequential([\n",
    "    tf.keras.layers.Dense(32, activation='relu', input_shape=(input_dim,)),\n",
    "    tf.keras.layers.Dense(16, activation='relu'),\n",
    "    tf.keras.layers.Dense(1)  # Output layer with 1 unit for regression\n",
    "])\n",
    "# Compile the model\n",
    "model.compile(optimizer='adam', loss='mean_squared_error')\n",
    "early_stopping = EarlyStopping(monitor='loss', patience=3)\n",
    "# Train the model\n",
    "model.fit(X_train, y_train, epochs=200, batch_size=32, callbacks=[early_stopping])\n",
    "# Evaluate the model\n",
    "loss = model.evaluate(X_test, y_test)\n",
    "print(\"Validation Loss:\", loss)\n",
    "# Use the trained model to make predictions\n",
    "predictions = model.predict(X_acc)\n",
    "# Calculate R2 score\n",
    "r2 = r2_score(y_acc, predictions)\n",
    "print(\"R2 Score:\", r2)\n",
    "# Calculate RMSE\n",
    "rmse = np.sqrt(mean_squared_error(y_acc, predictions))\n",
    "print(\"RMSE:\", rmse)"
   ]
  }
 ],
 "metadata": {
  "kernelspec": {
   "display_name": "Python 3 (ipykernel)",
   "language": "python",
   "name": "python3"
  },
  "language_info": {
   "codemirror_mode": {
    "name": "ipython",
    "version": 3
   },
   "file_extension": ".py",
   "mimetype": "text/x-python",
   "name": "python",
   "nbconvert_exporter": "python",
   "pygments_lexer": "ipython3",
   "version": "3.10.11"
  }
 },
 "nbformat": 4,
 "nbformat_minor": 5
}
